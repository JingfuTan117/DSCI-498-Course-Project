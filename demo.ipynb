{
 "cells": [
  {
   "cell_type": "markdown",
   "id": "63305b60",
   "metadata": {},
   "source": [
    "### This is just a test demo"
   ]
  },
  {
   "cell_type": "code",
   "execution_count": 16,
   "id": "eec33661",
   "metadata": {},
   "outputs": [
    {
     "name": "stdout",
     "output_type": "stream",
     "text": [
      "[VAE] Ep001 | Std T=191.11 E=149.96 | CVaR T=244.86 E=198.29\n",
      "[VAE] Ep002 | Std T=139.61 E=129.62 | CVaR T=188.16 E=172.87\n"
     ]
    }
   ],
   "source": [
    "!python main.py vae --dataset mnist --alpha 0.8 --epochs 2"
   ]
  },
  {
   "cell_type": "code",
   "execution_count": 17,
   "id": "d4eb34f0",
   "metadata": {},
   "outputs": [
    {
     "name": "stdout",
     "output_type": "stream",
     "text": [
      "[GAN] Ep001 | Std D=0.130 G=5.251 | CVaR D=0.119 G=5.591\n",
      "[GAN] Ep002 | Std D=0.278 G=3.261 | CVaR D=0.424 G=6.726\n"
     ]
    }
   ],
   "source": [
    "!python main.py gan --dataset celeba --alpha 0.8 --epochs 2"
   ]
  }
 ],
 "metadata": {
  "kernelspec": {
   "display_name": "base",
   "language": "python",
   "name": "python3"
  },
  "language_info": {
   "codemirror_mode": {
    "name": "ipython",
    "version": 3
   },
   "file_extension": ".py",
   "mimetype": "text/x-python",
   "name": "python",
   "nbconvert_exporter": "python",
   "pygments_lexer": "ipython3",
   "version": "3.11.7"
  }
 },
 "nbformat": 4,
 "nbformat_minor": 5
}
